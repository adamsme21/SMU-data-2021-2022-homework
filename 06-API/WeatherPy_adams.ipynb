{
 "cells": [
  {
   "cell_type": "markdown",
   "metadata": {},
   "source": [
    "# WeatherPy\n",
    "----\n",
    "\n",
    "#### Note\n",
    "* Instructions have been included for each segment. You do not have to follow them exactly, but they are included to help you think through the steps."
   ]
  },
  {
   "cell_type": "code",
   "execution_count": 1,
   "metadata": {
    "scrolled": true
   },
   "outputs": [],
   "source": [
    "# Dependencies and Setup\n",
    "import matplotlib.pyplot as plt\n",
    "import pandas as pd\n",
    "import numpy as np\n",
    "import requests\n",
    "import time\n",
    "from scipy.stats import linregress\n",
    "import seaborn as sns\n",
    "from pprint import pprint\n",
    "\n",
    "# Import API key\n",
    "from api_keys_adams import weather_api_key\n",
    "\n",
    "# Incorporated citipy to determine city based on latitude and longitude\n",
    "from citipy import citipy\n",
    "\n",
    "# Output File (CSV)\n",
    "output_data_file = \"output_data/cities.csv\"\n",
    "\n",
    "# Range of latitudes and longitudes\n",
    "lat_range = (-90, 90)\n",
    "lng_range = (-180, 180)"
   ]
  },
  {
   "cell_type": "markdown",
   "metadata": {},
   "source": [
    "## Generate Cities List"
   ]
  },
  {
   "cell_type": "code",
   "execution_count": 2,
   "metadata": {},
   "outputs": [
    {
     "data": {
      "text/plain": [
       "605"
      ]
     },
     "execution_count": 2,
     "metadata": {},
     "output_type": "execute_result"
    }
   ],
   "source": [
    "# List for holding lat_lngs and cities\n",
    "lat_lngs = []\n",
    "cities = []\n",
    "\n",
    "# Create a set of random lat and lng combinations\n",
    "lats = np.random.uniform(lat_range[0], lat_range[1], size=1500)\n",
    "lngs = np.random.uniform(lng_range[0], lng_range[1], size=1500)\n",
    "lat_lngs = zip(lats, lngs)\n",
    "\n",
    "# Identify nearest city for each lat, lng combination\n",
    "for lat_lng in lat_lngs:\n",
    "    city = citipy.nearest_city(lat_lng[0], lat_lng[1]).city_name\n",
    "    \n",
    "    # If the city is unique, then add it to a our cities list\n",
    "    if city not in cities:\n",
    "        cities.append(city)\n",
    "\n",
    "# Print the city count to confirm sufficient count\n",
    "len(cities)"
   ]
  },
  {
   "cell_type": "markdown",
   "metadata": {},
   "source": [
    "### Perform API Calls\n",
    "* Perform a weather check on each city using a series of successive API calls.\n",
    "* Include a print log of each city as it'sbeing processed (with the city number and city name).\n",
    "\n",
    "> **HINT:** The OpenWeatherMap API only allows 60 calls per minute under their free plan. Try using `time.sleep(60)` after each set of 50 cities to avoid API errors due to large calls."
   ]
  },
  {
   "cell_type": "code",
   "execution_count": 13,
   "metadata": {
    "scrolled": true
   },
   "outputs": [
    {
     "data": {
      "text/plain": [
       "['bredasdorp',\n",
       " 'constitucion',\n",
       " 'albany',\n",
       " 'freeport',\n",
       " 'hilo',\n",
       " 'punta arenas',\n",
       " 'bowen',\n",
       " 'cidreira',\n",
       " 'hobart',\n",
       " 'tuktoyaktuk',\n",
       " 'walvis bay',\n",
       " 'lunenburg',\n",
       " 'victoria',\n",
       " 'vallenar',\n",
       " 'vaini',\n",
       " 'ilinsko-podomskoye',\n",
       " 'saskylakh',\n",
       " 'nikolskoye',\n",
       " 'ponta do sol',\n",
       " 'barrow',\n",
       " 'lokoja',\n",
       " 'buraydah',\n",
       " 'cape town',\n",
       " 'nuuk',\n",
       " 'banjarmasin',\n",
       " 'vila velha',\n",
       " 'saint george',\n",
       " 'butaritari',\n",
       " 'boende',\n",
       " 'rikitea',\n",
       " 'kapaa',\n",
       " 'ushuaia',\n",
       " 'port hawkesbury',\n",
       " 'torbay',\n",
       " 'avarua',\n",
       " 'marivan',\n",
       " 'hermanus',\n",
       " 'kahului',\n",
       " 'chokurdakh',\n",
       " 'jinchengjiang',\n",
       " 'amderma',\n",
       " 'vaitupu',\n",
       " 'provideniya',\n",
       " 'honiara',\n",
       " 'inzhavino',\n",
       " 'nadym',\n",
       " 'bairiki',\n",
       " 'busselton',\n",
       " 'oranjestad',\n",
       " 'opuwo',\n",
       " 'sentyabrskiy',\n",
       " 'solovetskiy',\n",
       " 'sawtell',\n",
       " 'kijang',\n",
       " 'kuche',\n",
       " 'inhambane',\n",
       " 'arraial do cabo',\n",
       " 'kavieng',\n",
       " 'dikson',\n",
       " 'bambous virieux',\n",
       " 'bilma',\n",
       " 'tuatapere',\n",
       " 'luderitz',\n",
       " 'mataura',\n",
       " 'miri',\n",
       " 'chicomuselo',\n",
       " 'saldanha',\n",
       " 'muhoroni',\n",
       " 'agadez',\n",
       " 'port elizabeth',\n",
       " 'tilichiki',\n",
       " 'chuy',\n",
       " 'hualmay',\n",
       " 'moerai',\n",
       " 'hasaki',\n",
       " 'mys shmidta',\n",
       " 'shenjiamen',\n",
       " 'cabedelo',\n",
       " 'norman wells',\n",
       " 'cherskiy',\n",
       " 'kazalinsk',\n",
       " 'samusu',\n",
       " 'ust-kamchatsk',\n",
       " 'kushima',\n",
       " 'flin flon',\n",
       " 'mapimi',\n",
       " 'epe',\n",
       " 'den helder',\n",
       " 'muntilan',\n",
       " 'new norfolk',\n",
       " 'bousso',\n",
       " 'tasiilaq',\n",
       " 'tiksi',\n",
       " 'souillac',\n",
       " 'quatre cocos',\n",
       " 'puerto ayora',\n",
       " 'tsihombe',\n",
       " 'ust-nera',\n",
       " 'bluff',\n",
       " 'saint-francois',\n",
       " 'verkhnyaya inta',\n",
       " 'hobyo',\n",
       " 'lebu',\n",
       " 'hambantota',\n",
       " 'avera',\n",
       " 'piura',\n",
       " 'komsomolskiy',\n",
       " 'yellowknife',\n",
       " 'herat',\n",
       " 'khunzakh',\n",
       " 'georgetown',\n",
       " 'maarianhamina',\n",
       " 'ribeira grande',\n",
       " 'puerto ayacucho',\n",
       " 'peniche',\n",
       " 'margate',\n",
       " 'san rafael',\n",
       " 'lar',\n",
       " 'nguiu',\n",
       " 'severo-kurilsk',\n",
       " 'deputatskiy',\n",
       " 'solnechnyy',\n",
       " 'madimba',\n",
       " 'tajumulco',\n",
       " 'mayari',\n",
       " 'saleaula',\n",
       " 'ayagoz',\n",
       " 'ahipara',\n",
       " 'port lincoln',\n",
       " 'anzio',\n",
       " 'formoso do araguaia',\n",
       " 'airai',\n",
       " 'rosarito',\n",
       " 'vikhorevka',\n",
       " 'khatanga',\n",
       " 'suntar',\n",
       " 'nizhneyansk',\n",
       " 'jiutepec',\n",
       " 'alofi',\n",
       " 'emerald',\n",
       " 'sambava',\n",
       " 'tahta',\n",
       " 'malpe',\n",
       " 'saint-philippe',\n",
       " 'valparaiso',\n",
       " 'cabo san lucas',\n",
       " 'praia',\n",
       " 'sayyan',\n",
       " 'hithadhoo',\n",
       " 'constantine',\n",
       " 'egvekinot',\n",
       " 'morant bay',\n",
       " 'atherton',\n",
       " 'lagoa',\n",
       " 'bereda',\n",
       " 'te anau',\n",
       " 'samarai',\n",
       " 'prince rupert',\n",
       " 'vanimo',\n",
       " 'araouane',\n",
       " 'itarema',\n",
       " 'jamestown',\n",
       " 'meulaboh',\n",
       " 'beringovskiy',\n",
       " 'kidal',\n",
       " 'olinda',\n",
       " 'kingaroy',\n",
       " 'fort nelson',\n",
       " 'soanierana ivongo',\n",
       " 'jining',\n",
       " 'nome',\n",
       " 'westport',\n",
       " 'tual',\n",
       " 'pasni',\n",
       " 'darlawn',\n",
       " 'zhangye',\n",
       " 'mar del plata',\n",
       " 'sibolga',\n",
       " 'belyy yar',\n",
       " 'cagayan de tawi-tawi',\n",
       " 'dukat',\n",
       " 'soe',\n",
       " 'illoqqortoormiut',\n",
       " 'djibo',\n",
       " 'akdepe',\n",
       " 'palmer',\n",
       " 'ancud',\n",
       " 'bethel',\n",
       " 'san cristobal',\n",
       " 'barentsburg',\n",
       " 'savannah bight',\n",
       " 'atuona',\n",
       " 'iqaluit',\n",
       " 'baza',\n",
       " 'caravelas',\n",
       " 'charters towers',\n",
       " 'asyut',\n",
       " 'buala',\n",
       " 'makat',\n",
       " 'belushya guba',\n",
       " 'dunedin',\n",
       " 'castro',\n",
       " 'beni',\n",
       " 'bonthe',\n",
       " 'andahuaylas',\n",
       " 'antofagasta',\n",
       " 'faanui',\n",
       " 'albox',\n",
       " 'hamilton',\n",
       " 'margherita',\n",
       " 'taolanaro',\n",
       " 'port alfred',\n",
       " 'isangel',\n",
       " 'conakry',\n",
       " 'san pedro',\n",
       " 'aklavik',\n",
       " 'east london',\n",
       " 'thompson',\n",
       " 'matadi',\n",
       " 'longyearbyen',\n",
       " 'clyde river',\n",
       " 'halifax',\n",
       " 'hofn',\n",
       " 'nanortalik',\n",
       " 'chagda',\n",
       " 'listvyagi',\n",
       " 'ous',\n",
       " 'upernavik',\n",
       " 'bukachacha',\n",
       " 'berea',\n",
       " 'praia da vitoria',\n",
       " 'lorengau',\n",
       " 'pevek',\n",
       " 'sinnamary',\n",
       " 'kaitangata',\n",
       " 'qaanaaq',\n",
       " 'mawlaik',\n",
       " 'usinsk',\n",
       " 'puerto leguizamo',\n",
       " 'esperance',\n",
       " 'kegayli',\n",
       " 'sao filipe',\n",
       " 'benghazi',\n",
       " 'palabuhanratu',\n",
       " 'khilok',\n",
       " 'yeppoon',\n",
       " 'biloela',\n",
       " 'tuy hoa',\n",
       " 'rizhao',\n",
       " 'laramie',\n",
       " 'shiyan',\n",
       " 'roura',\n",
       " 'halalo',\n",
       " 'attawapiskat',\n",
       " 'leningradskiy',\n",
       " 'monrovia',\n",
       " 'ornskoldsvik',\n",
       " 'salalah',\n",
       " 'popondetta',\n",
       " 'coos bay',\n",
       " 'kibre mengist',\n",
       " 'angouleme',\n",
       " 'grand river south east',\n",
       " 'nabire',\n",
       " 'shache',\n",
       " 'hopelchen',\n",
       " 'rawson',\n",
       " 'koumac',\n",
       " 'chingirlau',\n",
       " 'touros',\n",
       " 'mahebourg',\n",
       " 'townsville',\n",
       " 'waipawa',\n",
       " 'sumbawa',\n",
       " 'serov',\n",
       " 'ponta delgada',\n",
       " 'inirida',\n",
       " 'grand centre',\n",
       " 'tabiauea',\n",
       " 'lucea',\n",
       " 'husavik',\n",
       " 'uvinza',\n",
       " 'henties bay',\n",
       " 'mwinilunga',\n",
       " 'utiroa',\n",
       " 'batemans bay',\n",
       " 'yantal',\n",
       " 'champa',\n",
       " 'kamenskoye',\n",
       " 'alexandria',\n",
       " 'hvide sande',\n",
       " 'beidao',\n",
       " 'patti',\n",
       " 'namibe',\n",
       " 'dinguiraye',\n",
       " 'lincoln',\n",
       " 'kodiak',\n",
       " 'crisan',\n",
       " 'lompoc',\n",
       " 'borovoy',\n",
       " 'chipinge',\n",
       " 'santarem',\n",
       " 'porto novo',\n",
       " 'medea',\n",
       " 'cumanayagua',\n",
       " 'cap malheureux',\n",
       " 'lavrentiya',\n",
       " 'manisa',\n",
       " 'cuiluan',\n",
       " 'flinders',\n",
       " 'roebourne',\n",
       " 'letlhakane',\n",
       " 'manaus',\n",
       " 'tete',\n",
       " 'weligama',\n",
       " 'saurimo',\n",
       " 'banda aceh',\n",
       " 'salinas',\n",
       " 'concarneau',\n",
       " 'nao-me-toque',\n",
       " 'santa rosa',\n",
       " 'hay river',\n",
       " 'grindavik',\n",
       " 'ovalle',\n",
       " 'kahta',\n",
       " 'san patricio',\n",
       " 'tumannyy',\n",
       " 'pitkyaranta',\n",
       " 'mangrol',\n",
       " 'tabas',\n",
       " 'sao joao da barra',\n",
       " 'bull savanna',\n",
       " 'ixtapa',\n",
       " 'karasjok',\n",
       " 'vardo',\n",
       " 'taltal',\n",
       " 'roald',\n",
       " 'grand gaube',\n",
       " 'trzebiatow',\n",
       " 'jiexiu',\n",
       " 'paita',\n",
       " 'hunza',\n",
       " 'lidkoping',\n",
       " 'guerrero negro',\n",
       " 'tomatlan',\n",
       " 'alberton',\n",
       " 'ulaangom',\n",
       " 'pitanga',\n",
       " 'saint-leu',\n",
       " 'hue',\n",
       " 'skibbereen',\n",
       " 'izumo',\n",
       " 'babylon',\n",
       " 'petukhovo',\n",
       " 'praya',\n",
       " 'altus',\n",
       " 'cayenne',\n",
       " 'aksarka',\n",
       " 'torit',\n",
       " 'bennington',\n",
       " 'biak',\n",
       " 'methoni',\n",
       " 'pangnirtung',\n",
       " 'ballitoville',\n",
       " 'senneterre',\n",
       " 'taree',\n",
       " 'spetsai',\n",
       " 'mayo',\n",
       " 'qorveh',\n",
       " 'hirado',\n",
       " 'faya',\n",
       " 'rungata',\n",
       " 'medina del campo',\n",
       " 'tucurui',\n",
       " 'mount gambier',\n",
       " 'aksu',\n",
       " 'yabrud',\n",
       " 'gisborne',\n",
       " 'taraclia',\n",
       " 'chifeng',\n",
       " 'palpa',\n",
       " 'boundiali',\n",
       " 'severodvinsk',\n",
       " 'carnarvon',\n",
       " 'outlook',\n",
       " 'poum',\n",
       " 'lovozero',\n",
       " 'ilulissat',\n",
       " 'mlonggo',\n",
       " 'vestmannaeyjar',\n",
       " 'turukhansk',\n",
       " 'ijaki',\n",
       " 'katherine',\n",
       " 'fare',\n",
       " 'olafsvik',\n",
       " 'kieta',\n",
       " 'port hedland',\n",
       " 'pisco',\n",
       " 'gizo',\n",
       " 'karibib',\n",
       " 'young',\n",
       " 'yulara',\n",
       " 'viligili',\n",
       " 'birecik',\n",
       " 'kapit',\n",
       " 'kruisfontein',\n",
       " 'mercedes',\n",
       " 'dalbandin',\n",
       " 'sisimiut',\n",
       " 'honningsvag',\n",
       " 'bathsheba',\n",
       " 'ostrovnoy',\n",
       " 'ola',\n",
       " 'wageningen',\n",
       " 'mecca',\n",
       " 'ramon',\n",
       " 'khairagarh',\n",
       " 'da lat',\n",
       " 'pulaski',\n",
       " 'zhanakorgan',\n",
       " 'exeter',\n",
       " 'zhigansk',\n",
       " 'puerto madryn',\n",
       " 'huarmey',\n",
       " 'xining',\n",
       " 'mount isa',\n",
       " 'santa helena',\n",
       " 'mezen',\n",
       " 'aegviidu',\n",
       " 'la ronge',\n",
       " 'klaksvik',\n",
       " 'koslan',\n",
       " 'formosa',\n",
       " 'paragominas',\n",
       " 'kaduqli',\n",
       " 'kavaratti',\n",
       " 'dien bien',\n",
       " 'russell',\n",
       " 'tucuru',\n",
       " 'montrose',\n",
       " 'piracuruca',\n",
       " 'belaya gora',\n",
       " 'le port',\n",
       " 'bulgan',\n",
       " 'renqiu',\n",
       " 'marcona',\n",
       " 'pacific grove',\n",
       " 'seoul',\n",
       " 'beroroha',\n",
       " 'maykain',\n",
       " 'slave lake',\n",
       " 'nueva loja',\n",
       " 'jiangyou',\n",
       " 'veshenskaya',\n",
       " 'qaqortoq',\n",
       " 'spasskoye',\n",
       " 'oron',\n",
       " 'sokoni',\n",
       " 'namie',\n",
       " 'lerwick',\n",
       " 'dingle',\n",
       " 'play cu',\n",
       " 'tanout',\n",
       " 'lata',\n",
       " 'eureka',\n",
       " 'elmadag',\n",
       " 'aflu',\n",
       " 'pedernales',\n",
       " 'shirgaon',\n",
       " 'ambon',\n",
       " 'wahiawa',\n",
       " 'shanghai',\n",
       " 'balabac',\n",
       " 'kurchum',\n",
       " 'leshukonskoye',\n",
       " 'waitati',\n",
       " 'codrington',\n",
       " 'oga',\n",
       " 'yerbogachen',\n",
       " 'yumen',\n",
       " 'rock sound',\n",
       " 'katsuura',\n",
       " 'ivybridge',\n",
       " 'broome',\n",
       " 'kupang',\n",
       " 'viedma',\n",
       " 'riviere-au-renard',\n",
       " 'bam',\n",
       " 'guiratinga',\n",
       " 'saint-joseph',\n",
       " 'idah',\n",
       " 'san quintin',\n",
       " 'dongsheng',\n",
       " 'tabialan',\n",
       " 'misratah',\n",
       " 'idar-oberstein',\n",
       " 'aswan',\n",
       " 'manono',\n",
       " 'kanke',\n",
       " 'gimli',\n",
       " 'high prairie',\n",
       " 'asau',\n",
       " 'bintulu',\n",
       " 'rock island',\n",
       " 'bon accord',\n",
       " 'boyle',\n",
       " 'samalaeulu',\n",
       " 'fukuma',\n",
       " 'chapada dos guimaraes',\n",
       " 'maravatio',\n",
       " 'selvazzano dentro',\n",
       " 'tawau',\n",
       " 'batagay',\n",
       " 'gigmoto',\n",
       " 'mildura',\n",
       " 'yerofey pavlovich',\n",
       " 'coquimbo',\n",
       " 'sampit',\n",
       " 'george',\n",
       " 'geelong',\n",
       " 'yinchuan',\n",
       " 'ambanja',\n",
       " 'hervey bay',\n",
       " 'letterkenny',\n",
       " 'fulitun',\n",
       " 'port blair',\n",
       " 'sogne',\n",
       " 'adrar',\n",
       " 'college',\n",
       " 'northam',\n",
       " 'nizhniy baskunchak',\n",
       " 'nyurba',\n",
       " 'chachapoyas',\n",
       " 'lao cai',\n",
       " 'san carlos de bariloche',\n",
       " 'havre-saint-pierre',\n",
       " 'ouesso',\n",
       " 'paamiut',\n",
       " 'narsaq',\n",
       " 'rasht',\n",
       " 'labrea',\n",
       " 'arman',\n",
       " 'padang',\n",
       " 'mogadishu',\n",
       " 'oxford',\n",
       " 'buenos aires',\n",
       " 'conde',\n",
       " 'tawzar',\n",
       " 'luoyang',\n",
       " 'majene',\n",
       " 'trofors',\n",
       " 'savalou',\n",
       " 'bolungarvik',\n",
       " 'lodja',\n",
       " 'ntchisi',\n",
       " 'nelson bay',\n",
       " 'sorland',\n",
       " 'nola',\n",
       " 'umm lajj',\n",
       " 'kamloops',\n",
       " 'celestun',\n",
       " 'vila franca do campo',\n",
       " 'sitka',\n",
       " 'rab',\n",
       " 'miranda',\n",
       " 'kalamnuri',\n",
       " 'imeni poliny osipenko',\n",
       " 'kaoma',\n",
       " 'portpatrick',\n",
       " 'vostok',\n",
       " 'scarborough',\n",
       " 'karaul',\n",
       " 'ximei',\n",
       " 'rangkasbitung',\n",
       " 'cao bang',\n",
       " 'cairo',\n",
       " 'islahiye',\n",
       " 'burns lake',\n",
       " 'dukhovnitskoye',\n",
       " 'labuhan',\n",
       " 'madang',\n",
       " 'panguna',\n",
       " 'camacupa',\n",
       " 'lazaro cardenas',\n",
       " 'chara',\n",
       " 'beyneu',\n",
       " 'matagami',\n",
       " 'innisfail',\n",
       " 'puri',\n",
       " 'raga',\n",
       " 'barra do garcas',\n",
       " 'mairi',\n",
       " 'peleduy',\n",
       " 'fortuna',\n",
       " 'muyezerskiy',\n",
       " 'riyadh',\n",
       " 'erenhot',\n",
       " 'tiarei',\n",
       " 'tashla',\n",
       " 'tucuman',\n",
       " 'port macquarie',\n",
       " 'maragogi',\n",
       " 'yaan',\n",
       " 'gorno-chuyskiy',\n",
       " 'karratha']"
      ]
     },
     "execution_count": 13,
     "metadata": {},
     "output_type": "execute_result"
    }
   ],
   "source": [
    "cities"
   ]
  },
  {
   "cell_type": "code",
   "execution_count": 14,
   "metadata": {},
   "outputs": [],
   "source": [
    "url = \"http://api.openweathermap.org/data/2.5/weather?\"\n",
    "units = \"metric\""
   ]
  },
  {
   "cell_type": "code",
   "execution_count": 15,
   "metadata": {},
   "outputs": [
    {
     "name": "stdout",
     "output_type": "stream",
     "text": [
      "200\n"
     ]
    }
   ],
   "source": [
    "city = \"bredasdorp\"\n",
    "query_url = f\"{url}appid={weather_api_key}&q={city}&units={units}\"\n",
    "weather_response = requests.get(query_url)\n",
    "print(weather_response.status_code)\n",
    "weather_json = weather_response.json()"
   ]
  },
  {
   "cell_type": "code",
   "execution_count": 16,
   "metadata": {},
   "outputs": [
    {
     "name": "stdout",
     "output_type": "stream",
     "text": [
      "{'base': 'stations',\n",
      " 'clouds': {'all': 51},\n",
      " 'cod': 200,\n",
      " 'coord': {'lat': -34.5322, 'lon': 20.0403},\n",
      " 'dt': 1644116957,\n",
      " 'id': 1015776,\n",
      " 'main': {'feels_like': 20.74,\n",
      "          'grnd_level': 1003,\n",
      "          'humidity': 96,\n",
      "          'pressure': 1012,\n",
      "          'sea_level': 1012,\n",
      "          'temp': 20.16,\n",
      "          'temp_max': 20.16,\n",
      "          'temp_min': 20.16},\n",
      " 'name': 'Bredasdorp',\n",
      " 'sys': {'country': 'ZA',\n",
      "         'id': 2006131,\n",
      "         'sunrise': 1644120312,\n",
      "         'sunset': 1644169359,\n",
      "         'type': 2},\n",
      " 'timezone': 7200,\n",
      " 'visibility': 10000,\n",
      " 'weather': [{'description': 'broken clouds',\n",
      "              'icon': '04n',\n",
      "              'id': 803,\n",
      "              'main': 'Clouds'}],\n",
      " 'wind': {'deg': 78, 'gust': 3.8, 'speed': 2.89}}\n"
     ]
    }
   ],
   "source": [
    "pprint(weather_json)"
   ]
  },
  {
   "cell_type": "markdown",
   "metadata": {},
   "source": [
    "### Convert Raw Data to DataFrame\n",
    "* Export the city data into a .csv.\n",
    "* Display the DataFrame"
   ]
  },
  {
   "cell_type": "code",
   "execution_count": 17,
   "metadata": {},
   "outputs": [],
   "source": [
    "city_name = weather_json[\"name\"]\n",
    "lat = weather_json[\"coord\"][\"lat\"]\n",
    "long = weather_json[\"coord\"][\"lon\"]\n",
    "cloud = weather_json[\"clouds\"][\"all\"]\n",
    "humid = weather_json[\"main\"][\"humidity\"]\n",
    "max_temp = weather_json[\"main\"][\"temp_max\"]\n",
    "wind = weather_json[\"wind\"][\"speed\"]\n",
    "country = weather_json[\"sys\"][\"country\"]\n",
    "dt = weather_json[\"dt\"]"
   ]
  },
  {
   "cell_type": "code",
   "execution_count": 18,
   "metadata": {},
   "outputs": [
    {
     "data": {
      "text/plain": [
       "51"
      ]
     },
     "execution_count": 18,
     "metadata": {},
     "output_type": "execute_result"
    }
   ],
   "source": [
    "cloud"
   ]
  },
  {
   "cell_type": "code",
   "execution_count": 31,
   "metadata": {},
   "outputs": [],
   "source": [
    "city_names=[]\n",
    "lats=[]\n",
    "longs=[]\n",
    "clouds=[]\n",
    "humids=[]\n",
    "max_temps=[]\n",
    "winds=[]\n",
    "countries=[]\n",
    "dts=[]\n",
    "\n",
    "for city in cities:\n",
    "    query_url = f\"{url}appid={weather_api_key}&q={city}&units={units}\"\n",
    "    weather_response = requests.get(query_url)\n",
    "    #print(weather_response.status_code)\n",
    "    \n",
    "    if(weather_response.status_code == 200):\n",
    "        weather_json = weather_response.json()\n",
    "    \n",
    "        city_name = weather_json[\"name\"]\n",
    "        lat = weather_json[\"coord\"][\"lat\"]\n",
    "        long = weather_json[\"coord\"][\"lon\"]\n",
    "        cloud = weather_json[\"clouds\"][\"all\"]\n",
    "        humid = weather_json[\"main\"][\"humidity\"]\n",
    "        max_temp = weather_json[\"main\"][\"temp_max\"]\n",
    "        wind = weather_json[\"wind\"][\"speed\"]\n",
    "        country = weather_json[\"sys\"][\"country\"]\n",
    "        dt = weather_json[\"dt\"]\n",
    "    \n",
    "        city_names.append(city_name)\n",
    "        lats.append(lat)\n",
    "        longs.append(long)\n",
    "        clouds.append(cloud)\n",
    "        humids.append(humid)\n",
    "        max_temps.append(max_temp)\n",
    "        winds.append(wind)\n",
    "        countries.append(country)\n",
    "        dts.append(dt)\n",
    "    \n",
    "    time.sleep(1)"
   ]
  },
  {
   "cell_type": "code",
   "execution_count": 32,
   "metadata": {},
   "outputs": [
    {
     "data": {
      "text/html": [
       "<div>\n",
       "<style scoped>\n",
       "    .dataframe tbody tr th:only-of-type {\n",
       "        vertical-align: middle;\n",
       "    }\n",
       "\n",
       "    .dataframe tbody tr th {\n",
       "        vertical-align: top;\n",
       "    }\n",
       "\n",
       "    .dataframe thead th {\n",
       "        text-align: right;\n",
       "    }\n",
       "</style>\n",
       "<table border=\"1\" class=\"dataframe\">\n",
       "  <thead>\n",
       "    <tr style=\"text-align: right;\">\n",
       "      <th></th>\n",
       "      <th>City</th>\n",
       "      <th>Country</th>\n",
       "      <th>Date</th>\n",
       "      <th>Lattitude</th>\n",
       "      <th>Longitude</th>\n",
       "      <th>Cloudiness</th>\n",
       "      <th>Humidity</th>\n",
       "      <th>Max Temperature</th>\n",
       "      <th>Wind Speed</th>\n",
       "    </tr>\n",
       "  </thead>\n",
       "  <tbody>\n",
       "    <tr>\n",
       "      <th>0</th>\n",
       "      <td>Bredasdorp</td>\n",
       "      <td>ZA</td>\n",
       "      <td>1644118454</td>\n",
       "      <td>-34.5322</td>\n",
       "      <td>20.0403</td>\n",
       "      <td>64</td>\n",
       "      <td>95</td>\n",
       "      <td>20.16</td>\n",
       "      <td>2.36</td>\n",
       "    </tr>\n",
       "    <tr>\n",
       "      <th>1</th>\n",
       "      <td>Constitución</td>\n",
       "      <td>CL</td>\n",
       "      <td>1644118736</td>\n",
       "      <td>-35.3333</td>\n",
       "      <td>-72.4167</td>\n",
       "      <td>0</td>\n",
       "      <td>64</td>\n",
       "      <td>16.60</td>\n",
       "      <td>3.67</td>\n",
       "    </tr>\n",
       "    <tr>\n",
       "      <th>2</th>\n",
       "      <td>Albany</td>\n",
       "      <td>US</td>\n",
       "      <td>1644118738</td>\n",
       "      <td>42.6001</td>\n",
       "      <td>-73.9662</td>\n",
       "      <td>5</td>\n",
       "      <td>76</td>\n",
       "      <td>-12.03</td>\n",
       "      <td>2.02</td>\n",
       "    </tr>\n",
       "    <tr>\n",
       "      <th>3</th>\n",
       "      <td>Freeport</td>\n",
       "      <td>US</td>\n",
       "      <td>1644118457</td>\n",
       "      <td>40.6576</td>\n",
       "      <td>-73.5832</td>\n",
       "      <td>0</td>\n",
       "      <td>63</td>\n",
       "      <td>-5.55</td>\n",
       "      <td>0.89</td>\n",
       "    </tr>\n",
       "    <tr>\n",
       "      <th>4</th>\n",
       "      <td>Hilo</td>\n",
       "      <td>US</td>\n",
       "      <td>1644118740</td>\n",
       "      <td>19.7297</td>\n",
       "      <td>-155.0900</td>\n",
       "      <td>20</td>\n",
       "      <td>77</td>\n",
       "      <td>24.85</td>\n",
       "      <td>3.09</td>\n",
       "    </tr>\n",
       "  </tbody>\n",
       "</table>\n",
       "</div>"
      ],
      "text/plain": [
       "           City Country        Date  Lattitude  Longitude  Cloudiness  \\\n",
       "0    Bredasdorp      ZA  1644118454   -34.5322    20.0403          64   \n",
       "1  Constitución      CL  1644118736   -35.3333   -72.4167           0   \n",
       "2        Albany      US  1644118738    42.6001   -73.9662           5   \n",
       "3      Freeport      US  1644118457    40.6576   -73.5832           0   \n",
       "4          Hilo      US  1644118740    19.7297  -155.0900          20   \n",
       "\n",
       "   Humidity  Max Temperature  Wind Speed  \n",
       "0        95            20.16        2.36  \n",
       "1        64            16.60        3.67  \n",
       "2        76           -12.03        2.02  \n",
       "3        63            -5.55        0.89  \n",
       "4        77            24.85        3.09  "
      ]
     },
     "execution_count": 32,
     "metadata": {},
     "output_type": "execute_result"
    }
   ],
   "source": [
    "df = pd.DataFrame()\n",
    "\n",
    "df[\"City\"] = city_names\n",
    "df[\"Country\"] = countries\n",
    "df[\"Date\"] = dts\n",
    "df[\"Lattitude\"] = lats\n",
    "df[\"Longitude\"] = longs\n",
    "df[\"Cloudiness\"] = clouds\n",
    "df[\"Humidity\"] = humids\n",
    "df[\"Max Temperature\"] = max_temps\n",
    "df[\"Wind Speed\"] = winds\n",
    "\n",
    "df.head()"
   ]
  },
  {
   "cell_type": "code",
   "execution_count": 33,
   "metadata": {},
   "outputs": [],
   "source": [
    "df.to_csv(\"my_weather_data.csv\", index=False)"
   ]
  },
  {
   "cell_type": "code",
   "execution_count": null,
   "metadata": {},
   "outputs": [],
   "source": []
  },
  {
   "cell_type": "markdown",
   "metadata": {},
   "source": [
    "## Inspect the data and remove the cities where the humidity > 100%.\n",
    "----\n",
    "Skip this step if there are no cities that have humidity > 100%. "
   ]
  },
  {
   "cell_type": "code",
   "execution_count": 1,
   "metadata": {},
   "outputs": [],
   "source": [
    "import matplotlib.pyplot as plt\n",
    "import pandas as pd\n",
    "import numpy as np\n",
    "import requests\n",
    "import time\n",
    "from scipy.stats import linregress\n",
    "import seaborn as sns\n",
    "from pprint import pprint\n"
   ]
  },
  {
   "cell_type": "code",
   "execution_count": 2,
   "metadata": {},
   "outputs": [
    {
     "data": {
      "text/html": [
       "<div>\n",
       "<style scoped>\n",
       "    .dataframe tbody tr th:only-of-type {\n",
       "        vertical-align: middle;\n",
       "    }\n",
       "\n",
       "    .dataframe tbody tr th {\n",
       "        vertical-align: top;\n",
       "    }\n",
       "\n",
       "    .dataframe thead th {\n",
       "        text-align: right;\n",
       "    }\n",
       "</style>\n",
       "<table border=\"1\" class=\"dataframe\">\n",
       "  <thead>\n",
       "    <tr style=\"text-align: right;\">\n",
       "      <th></th>\n",
       "      <th>City</th>\n",
       "      <th>Country</th>\n",
       "      <th>Date</th>\n",
       "      <th>Lattitude</th>\n",
       "      <th>Longitude</th>\n",
       "      <th>Cloudiness</th>\n",
       "      <th>Humidity</th>\n",
       "      <th>Max Temperature</th>\n",
       "      <th>Wind Speed</th>\n",
       "    </tr>\n",
       "  </thead>\n",
       "  <tbody>\n",
       "    <tr>\n",
       "      <th>0</th>\n",
       "      <td>Bredasdorp</td>\n",
       "      <td>ZA</td>\n",
       "      <td>1644118454</td>\n",
       "      <td>-34.5322</td>\n",
       "      <td>20.0403</td>\n",
       "      <td>64</td>\n",
       "      <td>95</td>\n",
       "      <td>20.16</td>\n",
       "      <td>2.36</td>\n",
       "    </tr>\n",
       "    <tr>\n",
       "      <th>1</th>\n",
       "      <td>Constitución</td>\n",
       "      <td>CL</td>\n",
       "      <td>1644118736</td>\n",
       "      <td>-35.3333</td>\n",
       "      <td>-72.4167</td>\n",
       "      <td>0</td>\n",
       "      <td>64</td>\n",
       "      <td>16.60</td>\n",
       "      <td>3.67</td>\n",
       "    </tr>\n",
       "    <tr>\n",
       "      <th>2</th>\n",
       "      <td>Albany</td>\n",
       "      <td>US</td>\n",
       "      <td>1644118738</td>\n",
       "      <td>42.6001</td>\n",
       "      <td>-73.9662</td>\n",
       "      <td>5</td>\n",
       "      <td>76</td>\n",
       "      <td>-12.03</td>\n",
       "      <td>2.02</td>\n",
       "    </tr>\n",
       "    <tr>\n",
       "      <th>3</th>\n",
       "      <td>Freeport</td>\n",
       "      <td>US</td>\n",
       "      <td>1644118457</td>\n",
       "      <td>40.6576</td>\n",
       "      <td>-73.5832</td>\n",
       "      <td>0</td>\n",
       "      <td>63</td>\n",
       "      <td>-5.55</td>\n",
       "      <td>0.89</td>\n",
       "    </tr>\n",
       "    <tr>\n",
       "      <th>4</th>\n",
       "      <td>Hilo</td>\n",
       "      <td>US</td>\n",
       "      <td>1644118740</td>\n",
       "      <td>19.7297</td>\n",
       "      <td>-155.0900</td>\n",
       "      <td>20</td>\n",
       "      <td>77</td>\n",
       "      <td>24.85</td>\n",
       "      <td>3.09</td>\n",
       "    </tr>\n",
       "  </tbody>\n",
       "</table>\n",
       "</div>"
      ],
      "text/plain": [
       "           City Country        Date  Lattitude  Longitude  Cloudiness  \\\n",
       "0    Bredasdorp      ZA  1644118454   -34.5322    20.0403          64   \n",
       "1  Constitución      CL  1644118736   -35.3333   -72.4167           0   \n",
       "2        Albany      US  1644118738    42.6001   -73.9662           5   \n",
       "3      Freeport      US  1644118457    40.6576   -73.5832           0   \n",
       "4          Hilo      US  1644118740    19.7297  -155.0900          20   \n",
       "\n",
       "   Humidity  Max Temperature  Wind Speed  \n",
       "0        95            20.16        2.36  \n",
       "1        64            16.60        3.67  \n",
       "2        76           -12.03        2.02  \n",
       "3        63            -5.55        0.89  \n",
       "4        77            24.85        3.09  "
      ]
     },
     "execution_count": 2,
     "metadata": {},
     "output_type": "execute_result"
    }
   ],
   "source": [
    "my_weather = \"output_data/my_weather_data.csv\"\n",
    "\n",
    "weather_df = pd.read_csv(my_weather)\n",
    "\n",
    "weather_df.head()"
   ]
  },
  {
   "cell_type": "code",
   "execution_count": 4,
   "metadata": {},
   "outputs": [
    {
     "data": {
      "text/html": [
       "<div>\n",
       "<style scoped>\n",
       "    .dataframe tbody tr th:only-of-type {\n",
       "        vertical-align: middle;\n",
       "    }\n",
       "\n",
       "    .dataframe tbody tr th {\n",
       "        vertical-align: top;\n",
       "    }\n",
       "\n",
       "    .dataframe thead th {\n",
       "        text-align: right;\n",
       "    }\n",
       "</style>\n",
       "<table border=\"1\" class=\"dataframe\">\n",
       "  <thead>\n",
       "    <tr style=\"text-align: right;\">\n",
       "      <th></th>\n",
       "      <th>Date</th>\n",
       "      <th>Lattitude</th>\n",
       "      <th>Longitude</th>\n",
       "      <th>Cloudiness</th>\n",
       "      <th>Humidity</th>\n",
       "      <th>Max Temperature</th>\n",
       "      <th>Wind Speed</th>\n",
       "    </tr>\n",
       "  </thead>\n",
       "  <tbody>\n",
       "    <tr>\n",
       "      <th>count</th>\n",
       "      <td>5.510000e+02</td>\n",
       "      <td>551.000000</td>\n",
       "      <td>551.000000</td>\n",
       "      <td>551.000000</td>\n",
       "      <td>551.000000</td>\n",
       "      <td>551.000000</td>\n",
       "      <td>551.000000</td>\n",
       "    </tr>\n",
       "    <tr>\n",
       "      <th>mean</th>\n",
       "      <td>1.644119e+09</td>\n",
       "      <td>19.100371</td>\n",
       "      <td>21.290749</td>\n",
       "      <td>56.925590</td>\n",
       "      <td>73.034483</td>\n",
       "      <td>9.497169</td>\n",
       "      <td>3.608947</td>\n",
       "    </tr>\n",
       "    <tr>\n",
       "      <th>std</th>\n",
       "      <td>2.661245e+02</td>\n",
       "      <td>33.495567</td>\n",
       "      <td>90.414294</td>\n",
       "      <td>40.718277</td>\n",
       "      <td>20.322775</td>\n",
       "      <td>17.315427</td>\n",
       "      <td>2.862246</td>\n",
       "    </tr>\n",
       "    <tr>\n",
       "      <th>min</th>\n",
       "      <td>1.644118e+09</td>\n",
       "      <td>-54.800000</td>\n",
       "      <td>-179.166700</td>\n",
       "      <td>0.000000</td>\n",
       "      <td>8.000000</td>\n",
       "      <td>-37.260000</td>\n",
       "      <td>0.000000</td>\n",
       "    </tr>\n",
       "    <tr>\n",
       "      <th>25%</th>\n",
       "      <td>1.644119e+09</td>\n",
       "      <td>-8.840150</td>\n",
       "      <td>-58.903950</td>\n",
       "      <td>11.000000</td>\n",
       "      <td>63.000000</td>\n",
       "      <td>-1.815000</td>\n",
       "      <td>1.505000</td>\n",
       "    </tr>\n",
       "    <tr>\n",
       "      <th>50%</th>\n",
       "      <td>1.644119e+09</td>\n",
       "      <td>22.050000</td>\n",
       "      <td>25.570100</td>\n",
       "      <td>73.000000</td>\n",
       "      <td>76.000000</td>\n",
       "      <td>14.330000</td>\n",
       "      <td>2.760000</td>\n",
       "    </tr>\n",
       "    <tr>\n",
       "      <th>75%</th>\n",
       "      <td>1.644119e+09</td>\n",
       "      <td>47.693300</td>\n",
       "      <td>106.071350</td>\n",
       "      <td>100.000000</td>\n",
       "      <td>88.000000</td>\n",
       "      <td>23.445000</td>\n",
       "      <td>5.040000</td>\n",
       "    </tr>\n",
       "    <tr>\n",
       "      <th>max</th>\n",
       "      <td>1.644120e+09</td>\n",
       "      <td>78.218600</td>\n",
       "      <td>179.316700</td>\n",
       "      <td>100.000000</td>\n",
       "      <td>100.000000</td>\n",
       "      <td>35.910000</td>\n",
       "      <td>15.520000</td>\n",
       "    </tr>\n",
       "  </tbody>\n",
       "</table>\n",
       "</div>"
      ],
      "text/plain": [
       "               Date   Lattitude   Longitude  Cloudiness    Humidity  \\\n",
       "count  5.510000e+02  551.000000  551.000000  551.000000  551.000000   \n",
       "mean   1.644119e+09   19.100371   21.290749   56.925590   73.034483   \n",
       "std    2.661245e+02   33.495567   90.414294   40.718277   20.322775   \n",
       "min    1.644118e+09  -54.800000 -179.166700    0.000000    8.000000   \n",
       "25%    1.644119e+09   -8.840150  -58.903950   11.000000   63.000000   \n",
       "50%    1.644119e+09   22.050000   25.570100   73.000000   76.000000   \n",
       "75%    1.644119e+09   47.693300  106.071350  100.000000   88.000000   \n",
       "max    1.644120e+09   78.218600  179.316700  100.000000  100.000000   \n",
       "\n",
       "       Max Temperature  Wind Speed  \n",
       "count       551.000000  551.000000  \n",
       "mean          9.497169    3.608947  \n",
       "std          17.315427    2.862246  \n",
       "min         -37.260000    0.000000  \n",
       "25%          -1.815000    1.505000  \n",
       "50%          14.330000    2.760000  \n",
       "75%          23.445000    5.040000  \n",
       "max          35.910000   15.520000  "
      ]
     },
     "execution_count": 4,
     "metadata": {},
     "output_type": "execute_result"
    }
   ],
   "source": [
    "#  Get the indices of cities that have humidity over 100%.\n",
    "weather_df.describe()"
   ]
  },
  {
   "cell_type": "code",
   "execution_count": 5,
   "metadata": {},
   "outputs": [],
   "source": [
    "# Make a new DataFrame equal to the city data to drop all humidity outliers by index.\n",
    "# Passing \"inplace=False\" will make a copy of the city_data DataFrame, which we call \"clean_city_data\".\n",
    "mask = weather_df.Humidity <= 100\n",
    "df_sub = weather_df.loc[mask].dropna().reset_index(drop=True)"
   ]
  },
  {
   "cell_type": "code",
   "execution_count": null,
   "metadata": {},
   "outputs": [],
   "source": [
    "\n"
   ]
  },
  {
   "cell_type": "markdown",
   "metadata": {},
   "source": [
    "## Plotting the Data\n",
    "* Use proper labeling of the plots using plot titles (including date of analysis) and axes labels.\n",
    "* Save the plotted figures as .pngs."
   ]
  },
  {
   "cell_type": "markdown",
   "metadata": {},
   "source": [
    "## Latitude vs. Temperature Plot"
   ]
  },
  {
   "cell_type": "code",
   "execution_count": 43,
   "metadata": {
    "scrolled": true
   },
   "outputs": [
    {
     "data": {
      "text/plain": [
       "<function matplotlib.pyplot.show(close=None, block=None)>"
      ]
     },
     "execution_count": 43,
     "metadata": {},
     "output_type": "execute_result"
    },
    {
     "data": {
      "image/png": "[encoded data removed]",
      "text/plain": [
       "<Figure size 720x432 with 1 Axes>"
      ]
     },
     "metadata": {
      "needs_background": "light"
     },
     "output_type": "display_data"
    }
   ],
   "source": [
    "\n",
    "plt.figure(figsize=(10,6))\n",
    "plt.scatter(weather_df[\"Max Temperature\"], weather_df[\"Lattitude\"], color= \"green\")\n",
    "plt.xlabel(\"Temperature\")\n",
    "plt.ylabel(\"Lattitude\")\n",
    "plt.title(\"Lattitude vs. Temperature\")\n",
    "plt.show\n"
   ]
  },
  {
   "cell_type": "markdown",
   "metadata": {},
   "source": [
    "Analysis- The closer a location is to the equater, the hotter the location. The farther from the location, the cooler the location. "
   ]
  },
  {
   "cell_type": "markdown",
   "metadata": {},
   "source": [
    "## Latitude vs. Humidity Plot"
   ]
  },
  {
   "cell_type": "code",
   "execution_count": 44,
   "metadata": {},
   "outputs": [
    {
     "data": {
      "text/plain": [
       "<function matplotlib.pyplot.show(close=None, block=None)>"
      ]
     },
     "execution_count": 44,
     "metadata": {},
     "output_type": "execute_result"
    },
    {
     "data": {
      "image/png": "[encoded data removed]",
      "text/plain": [
       "<Figure size 1440x720 with 1 Axes>"
      ]
     },
     "metadata": {
      "needs_background": "light"
     },
     "output_type": "display_data"
    }
   ],
   "source": [
    "\n",
    "plt.figure(figsize=(20,10))\n",
    "plt.scatter(weather_df[\"Humidity\"], weather_df[\"Lattitude\"], color= \"green\")\n",
    "plt.xlabel(\"Humidity\")\n",
    "plt.ylabel(\"Lattitude\")\n",
    "plt.title(\"Lattitude vs. Humidity\")\n",
    "plt.show"
   ]
  },
  {
   "cell_type": "markdown",
   "metadata": {},
   "source": [
    "Analysis- There is no correlation between lattitude and humidity. "
   ]
  },
  {
   "cell_type": "markdown",
   "metadata": {},
   "source": [
    "## Latitude vs. Cloudiness Plot"
   ]
  },
  {
   "cell_type": "code",
   "execution_count": 45,
   "metadata": {},
   "outputs": [
    {
     "data": {
      "text/plain": [
       "<function matplotlib.pyplot.show(close=None, block=None)>"
      ]
     },
     "execution_count": 45,
     "metadata": {},
     "output_type": "execute_result"
    },
    {
     "data": {
      "image/png": "[encoded data removed]",
      "text/plain": [
       "<Figure size 1440x720 with 1 Axes>"
      ]
     },
     "metadata": {
      "needs_background": "light"
     },
     "output_type": "display_data"
    }
   ],
   "source": [
    "\n",
    "plt.figure(figsize=(20,10))\n",
    "plt.scatter(weather_df[\"Cloudiness\"], weather_df[\"Lattitude\"], color= \"green\")\n",
    "plt.xlabel(\"Cloudiness\")\n",
    "plt.ylabel(\"Lattitude\")\n",
    "plt.title(\"Lattitude vs. Cloudiness\")\n",
    "plt.show"
   ]
  },
  {
   "cell_type": "markdown",
   "metadata": {},
   "source": [
    "Analysis- There is no correlation between cloudiness and lattitude. "
   ]
  },
  {
   "cell_type": "markdown",
   "metadata": {},
   "source": [
    "## Latitude vs. Wind Speed Plot"
   ]
  },
  {
   "cell_type": "code",
   "execution_count": 46,
   "metadata": {},
   "outputs": [
    {
     "data": {
      "text/plain": [
       "<function matplotlib.pyplot.show(close=None, block=None)>"
      ]
     },
     "execution_count": 46,
     "metadata": {},
     "output_type": "execute_result"
    },
    {
     "data": {
      "image/png": "[encoded data removed]",
      "text/plain": [
       "<Figure size 1440x720 with 1 Axes>"
      ]
     },
     "metadata": {
      "needs_background": "light"
     },
     "output_type": "display_data"
    }
   ],
   "source": [
    "\n",
    "plt.figure(figsize=(20,10))\n",
    "plt.scatter(weather_df[\"Wind Speed\"], weather_df[\"Lattitude\"], color= \"green\")\n",
    "plt.xlabel(\"Wind Speed\")\n",
    "plt.ylabel(\"Lattitude\")\n",
    "plt.title(\"Lattitude vs. Wind Speed\")\n",
    "plt.show"
   ]
  },
  {
   "cell_type": "markdown",
   "metadata": {},
   "source": [
    "Analysis- There is no correlation between wind speed and lattitude."
   ]
  },
  {
   "cell_type": "markdown",
   "metadata": {},
   "source": [
    "## Linear Regression"
   ]
  },
  {
   "cell_type": "code",
   "execution_count": 6,
   "metadata": {},
   "outputs": [
    {
     "data": {
      "text/html": [
       "<div>\n",
       "<style scoped>\n",
       "    .dataframe tbody tr th:only-of-type {\n",
       "        vertical-align: middle;\n",
       "    }\n",
       "\n",
       "    .dataframe tbody tr th {\n",
       "        vertical-align: top;\n",
       "    }\n",
       "\n",
       "    .dataframe thead th {\n",
       "        text-align: right;\n",
       "    }\n",
       "</style>\n",
       "<table border=\"1\" class=\"dataframe\">\n",
       "  <thead>\n",
       "    <tr style=\"text-align: right;\">\n",
       "      <th></th>\n",
       "      <th>City</th>\n",
       "      <th>Country</th>\n",
       "      <th>Date</th>\n",
       "      <th>Lattitude</th>\n",
       "      <th>Longitude</th>\n",
       "      <th>Cloudiness</th>\n",
       "      <th>Humidity</th>\n",
       "      <th>Max Temperature</th>\n",
       "      <th>Wind Speed</th>\n",
       "    </tr>\n",
       "  </thead>\n",
       "  <tbody>\n",
       "    <tr>\n",
       "      <th>2</th>\n",
       "      <td>Albany</td>\n",
       "      <td>US</td>\n",
       "      <td>1644118738</td>\n",
       "      <td>42.6001</td>\n",
       "      <td>-73.9662</td>\n",
       "      <td>5</td>\n",
       "      <td>76</td>\n",
       "      <td>-12.03</td>\n",
       "      <td>2.02</td>\n",
       "    </tr>\n",
       "    <tr>\n",
       "      <th>3</th>\n",
       "      <td>Freeport</td>\n",
       "      <td>US</td>\n",
       "      <td>1644118457</td>\n",
       "      <td>40.6576</td>\n",
       "      <td>-73.5832</td>\n",
       "      <td>0</td>\n",
       "      <td>63</td>\n",
       "      <td>-5.55</td>\n",
       "      <td>0.89</td>\n",
       "    </tr>\n",
       "    <tr>\n",
       "      <th>4</th>\n",
       "      <td>Hilo</td>\n",
       "      <td>US</td>\n",
       "      <td>1644118740</td>\n",
       "      <td>19.7297</td>\n",
       "      <td>-155.0900</td>\n",
       "      <td>20</td>\n",
       "      <td>77</td>\n",
       "      <td>24.85</td>\n",
       "      <td>3.09</td>\n",
       "    </tr>\n",
       "    <tr>\n",
       "      <th>9</th>\n",
       "      <td>Tuktoyaktuk</td>\n",
       "      <td>CA</td>\n",
       "      <td>1644118747</td>\n",
       "      <td>69.4541</td>\n",
       "      <td>-133.0374</td>\n",
       "      <td>0</td>\n",
       "      <td>75</td>\n",
       "      <td>-35.00</td>\n",
       "      <td>4.12</td>\n",
       "    </tr>\n",
       "    <tr>\n",
       "      <th>11</th>\n",
       "      <td>Lunenburg</td>\n",
       "      <td>CA</td>\n",
       "      <td>1644118750</td>\n",
       "      <td>44.3835</td>\n",
       "      <td>-64.3155</td>\n",
       "      <td>96</td>\n",
       "      <td>81</td>\n",
       "      <td>-9.00</td>\n",
       "      <td>7.41</td>\n",
       "    </tr>\n",
       "  </tbody>\n",
       "</table>\n",
       "</div>"
      ],
      "text/plain": [
       "           City Country        Date  Lattitude  Longitude  Cloudiness  \\\n",
       "2        Albany      US  1644118738    42.6001   -73.9662           5   \n",
       "3      Freeport      US  1644118457    40.6576   -73.5832           0   \n",
       "4          Hilo      US  1644118740    19.7297  -155.0900          20   \n",
       "9   Tuktoyaktuk      CA  1644118747    69.4541  -133.0374           0   \n",
       "11    Lunenburg      CA  1644118750    44.3835   -64.3155          96   \n",
       "\n",
       "    Humidity  Max Temperature  Wind Speed  \n",
       "2         76           -12.03        2.02  \n",
       "3         63            -5.55        0.89  \n",
       "4         77            24.85        3.09  \n",
       "9         75           -35.00        4.12  \n",
       "11        81            -9.00        7.41  "
      ]
     },
     "execution_count": 6,
     "metadata": {},
     "output_type": "execute_result"
    }
   ],
   "source": [
    "#North and South Dataframes\n",
    "north= weather_df.loc[weather_df.Lattitude >= 0]\n",
    "north.head()"
   ]
  },
  {
   "cell_type": "code",
   "execution_count": 7,
   "metadata": {},
   "outputs": [
    {
     "data": {
      "text/html": [
       "<div>\n",
       "<style scoped>\n",
       "    .dataframe tbody tr th:only-of-type {\n",
       "        vertical-align: middle;\n",
       "    }\n",
       "\n",
       "    .dataframe tbody tr th {\n",
       "        vertical-align: top;\n",
       "    }\n",
       "\n",
       "    .dataframe thead th {\n",
       "        text-align: right;\n",
       "    }\n",
       "</style>\n",
       "<table border=\"1\" class=\"dataframe\">\n",
       "  <thead>\n",
       "    <tr style=\"text-align: right;\">\n",
       "      <th></th>\n",
       "      <th>City</th>\n",
       "      <th>Country</th>\n",
       "      <th>Date</th>\n",
       "      <th>Lattitude</th>\n",
       "      <th>Longitude</th>\n",
       "      <th>Cloudiness</th>\n",
       "      <th>Humidity</th>\n",
       "      <th>Max Temperature</th>\n",
       "      <th>Wind Speed</th>\n",
       "    </tr>\n",
       "  </thead>\n",
       "  <tbody>\n",
       "    <tr>\n",
       "      <th>0</th>\n",
       "      <td>Bredasdorp</td>\n",
       "      <td>ZA</td>\n",
       "      <td>1644118454</td>\n",
       "      <td>-34.5322</td>\n",
       "      <td>20.0403</td>\n",
       "      <td>64</td>\n",
       "      <td>95</td>\n",
       "      <td>20.16</td>\n",
       "      <td>2.36</td>\n",
       "    </tr>\n",
       "    <tr>\n",
       "      <th>1</th>\n",
       "      <td>Constitución</td>\n",
       "      <td>CL</td>\n",
       "      <td>1644118736</td>\n",
       "      <td>-35.3333</td>\n",
       "      <td>-72.4167</td>\n",
       "      <td>0</td>\n",
       "      <td>64</td>\n",
       "      <td>16.60</td>\n",
       "      <td>3.67</td>\n",
       "    </tr>\n",
       "    <tr>\n",
       "      <th>5</th>\n",
       "      <td>Punta Arenas</td>\n",
       "      <td>CL</td>\n",
       "      <td>1644118742</td>\n",
       "      <td>-53.1500</td>\n",
       "      <td>-70.9167</td>\n",
       "      <td>40</td>\n",
       "      <td>58</td>\n",
       "      <td>12.06</td>\n",
       "      <td>3.60</td>\n",
       "    </tr>\n",
       "    <tr>\n",
       "      <th>6</th>\n",
       "      <td>Bowen</td>\n",
       "      <td>AU</td>\n",
       "      <td>1644118743</td>\n",
       "      <td>-20.0167</td>\n",
       "      <td>148.2333</td>\n",
       "      <td>22</td>\n",
       "      <td>63</td>\n",
       "      <td>28.12</td>\n",
       "      <td>7.79</td>\n",
       "    </tr>\n",
       "    <tr>\n",
       "      <th>7</th>\n",
       "      <td>Cidreira</td>\n",
       "      <td>BR</td>\n",
       "      <td>1644118745</td>\n",
       "      <td>-30.1811</td>\n",
       "      <td>-50.2056</td>\n",
       "      <td>89</td>\n",
       "      <td>90</td>\n",
       "      <td>22.74</td>\n",
       "      <td>2.69</td>\n",
       "    </tr>\n",
       "  </tbody>\n",
       "</table>\n",
       "</div>"
      ],
      "text/plain": [
       "           City Country        Date  Lattitude  Longitude  Cloudiness  \\\n",
       "0    Bredasdorp      ZA  1644118454   -34.5322    20.0403          64   \n",
       "1  Constitución      CL  1644118736   -35.3333   -72.4167           0   \n",
       "5  Punta Arenas      CL  1644118742   -53.1500   -70.9167          40   \n",
       "6         Bowen      AU  1644118743   -20.0167   148.2333          22   \n",
       "7      Cidreira      BR  1644118745   -30.1811   -50.2056          89   \n",
       "\n",
       "   Humidity  Max Temperature  Wind Speed  \n",
       "0        95            20.16        2.36  \n",
       "1        64            16.60        3.67  \n",
       "5        58            12.06        3.60  \n",
       "6        63            28.12        7.79  \n",
       "7        90            22.74        2.69  "
      ]
     },
     "execution_count": 7,
     "metadata": {},
     "output_type": "execute_result"
    }
   ],
   "source": [
    "south= weather_df.loc[weather_df.Lattitude < 0]\n",
    "south.head()"
   ]
  },
  {
   "cell_type": "markdown",
   "metadata": {},
   "source": [
    "####  Northern Hemisphere - Max Temp vs. Latitude Linear Regression"
   ]
  },
  {
   "cell_type": "code",
   "execution_count": 11,
   "metadata": {},
   "outputs": [
    {
     "data": {
      "image/png": "[encoded data removed]",
      "text/plain": [
       "<Figure size 432x288 with 1 Axes>"
      ]
     },
     "metadata": {
      "needs_background": "light"
     },
     "output_type": "display_data"
    }
   ],
   "source": [
    "x_values = north[\"Max Temperature\"]\n",
    "y_values = north[\"Lattitude\"]\n",
    "(slope, intercept, rvalue, pvalue, stderr) = linregress(x_values, y_values)\n",
    "regress_values = x_values * slope + intercept\n",
    "line_eq = \"y = \" + str(round(slope,2)) + \"x + \" + str(round(intercept,2))\n",
    "plt.scatter(x_values,y_values)\n",
    "plt.plot(x_values,regress_values,\"r-\")\n",
    "plt.annotate(line_eq,(-20,10),fontsize=12,color=\"red\")\n",
    "plt.xlabel('Max Temperature')\n",
    "plt.ylabel('Lattitude')\n",
    "plt.show()"
   ]
  },
  {
   "cell_type": "markdown",
   "metadata": {},
   "source": [
    "Analysis- As lattitude increases in the northern hemisphere, temperature decreases. As lattitude decreases, temperature increases."
   ]
  },
  {
   "cell_type": "markdown",
   "metadata": {},
   "source": [
    "####  Southern Hemisphere - Max Temp vs. Latitude Linear Regression"
   ]
  },
  {
   "cell_type": "code",
   "execution_count": 14,
   "metadata": {},
   "outputs": [
    {
     "data": {
      "image/png": "[encoded data removed]",
      "text/plain": [
       "<Figure size 432x288 with 1 Axes>"
      ]
     },
     "metadata": {
      "needs_background": "light"
     },
     "output_type": "display_data"
    }
   ],
   "source": [
    "x_values = south[\"Max Temperature\"]\n",
    "y_values = south[\"Lattitude\"]\n",
    "(slope, intercept, rvalue, pvalue, stderr) = linregress(x_values, y_values)\n",
    "regress_values = x_values * slope + intercept\n",
    "line_eq = \"y = \" + str(round(slope,2)) + \"x + \" + str(round(intercept,2))\n",
    "plt.scatter(x_values,y_values)\n",
    "plt.plot(x_values,regress_values,\"r-\")\n",
    "plt.annotate(line_eq,(20,-50),fontsize=12,color=\"red\")\n",
    "plt.xlabel('Max Temperature')\n",
    "plt.ylabel('Lattitude')\n",
    "plt.show()"
   ]
  },
  {
   "cell_type": "markdown",
   "metadata": {},
   "source": [
    "Analysis- There is less correlation in the southern hemisphere from this random data set; however there is a slight trend towards temperature increasing as lattitude decreases."
   ]
  },
  {
   "cell_type": "markdown",
   "metadata": {},
   "source": [
    "####  Northern Hemisphere - Humidity (%) vs. Latitude Linear Regression"
   ]
  },
  {
   "cell_type": "code",
   "execution_count": 16,
   "metadata": {},
   "outputs": [
    {
     "data": {
      "image/png": "[encoded data removed]",
      "text/plain": [
       "<Figure size 432x288 with 1 Axes>"
      ]
     },
     "metadata": {
      "needs_background": "light"
     },
     "output_type": "display_data"
    }
   ],
   "source": [
    "x_values = north[\"Humidity\"]\n",
    "y_values = north[\"Lattitude\"]\n",
    "(slope, intercept, rvalue, pvalue, stderr) = linregress(x_values, y_values)\n",
    "regress_values = x_values * slope + intercept\n",
    "line_eq = \"y = \" + str(round(slope,2)) + \"x + \" + str(round(intercept,2))\n",
    "plt.scatter(x_values,y_values)\n",
    "plt.plot(x_values,regress_values,\"r-\")\n",
    "plt.annotate(line_eq,(6,70),fontsize=12,color=\"red\")\n",
    "plt.xlabel('Humidity')\n",
    "plt.ylabel('Lattitude')\n",
    "plt.show()"
   ]
  },
  {
   "cell_type": "markdown",
   "metadata": {},
   "source": [
    "Analysis- There is not a strong correlation in this data, but there is a general trend for humidity to increase as lattitude increases."
   ]
  },
  {
   "cell_type": "markdown",
   "metadata": {},
   "source": [
    "####  Southern Hemisphere - Humidity (%) vs. Latitude Linear Regression"
   ]
  },
  {
   "cell_type": "code",
   "execution_count": 18,
   "metadata": {},
   "outputs": [
    {
     "data": {
      "image/png": "[encoded data removed]",
      "text/plain": [
       "<Figure size 432x288 with 1 Axes>"
      ]
     },
     "metadata": {
      "needs_background": "light"
     },
     "output_type": "display_data"
    }
   ],
   "source": [
    "x_values = south[\"Humidity\"]\n",
    "y_values = south[\"Lattitude\"]\n",
    "(slope, intercept, rvalue, pvalue, stderr) = linregress(x_values, y_values)\n",
    "regress_values = x_values * slope + intercept\n",
    "line_eq = \"y = \" + str(round(slope,2)) + \"x + \" + str(round(intercept,2))\n",
    "plt.scatter(x_values,y_values)\n",
    "plt.plot(x_values,regress_values,\"r-\")\n",
    "plt.annotate(line_eq,(20,-10),fontsize=12,color=\"red\")\n",
    "plt.xlabel('Humidity')\n",
    "plt.ylabel('Lattitude')\n",
    "plt.show()"
   ]
  },
  {
   "cell_type": "markdown",
   "metadata": {},
   "source": [
    "Analysis- There is not a strong correlation between humidity and lattitude; however, there is a slight trend of humidity increasing as lattitude increases."
   ]
  },
  {
   "cell_type": "markdown",
   "metadata": {},
   "source": [
    "####  Northern Hemisphere - Cloudiness (%) vs. Latitude Linear Regression"
   ]
  },
  {
   "cell_type": "code",
   "execution_count": 20,
   "metadata": {},
   "outputs": [
    {
     "data": {
      "image/png": "[encoded data removed]",
      "text/plain": [
       "<Figure size 432x288 with 1 Axes>"
      ]
     },
     "metadata": {
      "needs_background": "light"
     },
     "output_type": "display_data"
    }
   ],
   "source": [
    "x_values = north[\"Cloudiness\"]\n",
    "y_values = north[\"Lattitude\"]\n",
    "(slope, intercept, rvalue, pvalue, stderr) = linregress(x_values, y_values)\n",
    "regress_values = x_values * slope + intercept\n",
    "line_eq = \"y = \" + str(round(slope,2)) + \"x + \" + str(round(intercept,2))\n",
    "plt.scatter(x_values,y_values)\n",
    "plt.plot(x_values,regress_values,\"r-\")\n",
    "plt.annotate(line_eq,(40,75),fontsize=12,color=\"red\")\n",
    "plt.xlabel('Cloudiness')\n",
    "plt.ylabel('Lattitude')\n",
    "plt.show()"
   ]
  },
  {
   "cell_type": "markdown",
   "metadata": {},
   "source": [
    "Analysis- There is no correlation in this data. "
   ]
  },
  {
   "cell_type": "markdown",
   "metadata": {},
   "source": [
    "####  Southern Hemisphere - Cloudiness (%) vs. Latitude Linear Regression"
   ]
  },
  {
   "cell_type": "code",
   "execution_count": 22,
   "metadata": {},
   "outputs": [
    {
     "data": {
      "image/png": "[encoded data removed]",
      "text/plain": [
       "<Figure size 432x288 with 1 Axes>"
      ]
     },
     "metadata": {
      "needs_background": "light"
     },
     "output_type": "display_data"
    }
   ],
   "source": [
    "x_values = south[\"Cloudiness\"]\n",
    "y_values = south[\"Lattitude\"]\n",
    "(slope, intercept, rvalue, pvalue, stderr) = linregress(x_values, y_values)\n",
    "regress_values = x_values * slope + intercept\n",
    "line_eq = \"y = \" + str(round(slope,2)) + \"x + \" + str(round(intercept,2))\n",
    "plt.scatter(x_values,y_values)\n",
    "plt.plot(x_values,regress_values,\"r-\")\n",
    "plt.annotate(line_eq,(60,-50),fontsize=12,color=\"red\")\n",
    "plt.xlabel('Cloudiness')\n",
    "plt.ylabel('Lattitude')\n",
    "plt.show()"
   ]
  },
  {
   "cell_type": "markdown",
   "metadata": {},
   "source": [
    "Analysis- There is no correlation in this data. "
   ]
  },
  {
   "cell_type": "markdown",
   "metadata": {},
   "source": [
    "####  Northern Hemisphere - Wind Speed (mph) vs. Latitude Linear Regression"
   ]
  },
  {
   "cell_type": "code",
   "execution_count": 24,
   "metadata": {},
   "outputs": [
    {
     "data": {
      "image/png": "[encoded data removed]",
      "text/plain": [
       "<Figure size 432x288 with 1 Axes>"
      ]
     },
     "metadata": {
      "needs_background": "light"
     },
     "output_type": "display_data"
    }
   ],
   "source": [
    "x_values = north[\"Wind Speed\"]\n",
    "y_values = north[\"Lattitude\"]\n",
    "(slope, intercept, rvalue, pvalue, stderr) = linregress(x_values, y_values)\n",
    "regress_values = x_values * slope + intercept\n",
    "line_eq = \"y = \" + str(round(slope,2)) + \"x + \" + str(round(intercept,2))\n",
    "plt.scatter(x_values,y_values)\n",
    "plt.plot(x_values,regress_values,\"r-\")\n",
    "plt.annotate(line_eq,(10,20),fontsize=12,color=\"red\")\n",
    "plt.xlabel('Wind Speed (mph)')\n",
    "plt.ylabel('Lattitude')\n",
    "plt.show()"
   ]
  },
  {
   "cell_type": "markdown",
   "metadata": {},
   "source": [
    "Analysis- There is correlation within this data. "
   ]
  },
  {
   "cell_type": "markdown",
   "metadata": {},
   "source": [
    "####  Southern Hemisphere - Wind Speed (mph) vs. Latitude Linear Regression"
   ]
  },
  {
   "cell_type": "code",
   "execution_count": 26,
   "metadata": {},
   "outputs": [
    {
     "data": {
      "image/png": "[encoded data removed]",
      "text/plain": [
       "<Figure size 432x288 with 1 Axes>"
      ]
     },
     "metadata": {
      "needs_background": "light"
     },
     "output_type": "display_data"
    }
   ],
   "source": [
    "x_values = south[\"Wind Speed\"]\n",
    "y_values = south[\"Lattitude\"]\n",
    "(slope, intercept, rvalue, pvalue, stderr) = linregress(x_values, y_values)\n",
    "regress_values = x_values * slope + intercept\n",
    "line_eq = \"y = \" + str(round(slope,2)) + \"x + \" + str(round(intercept,2))\n",
    "plt.scatter(x_values,y_values)\n",
    "plt.plot(x_values,regress_values,\"r-\")\n",
    "plt.annotate(line_eq,(6,-50),fontsize=12,color=\"red\")\n",
    "plt.xlabel('Wind Speed (mph)')\n",
    "plt.ylabel('Lattitude')\n",
    "plt.show()"
   ]
  },
  {
   "cell_type": "markdown",
   "metadata": {},
   "source": [
    "Analysis- There is no correlation in this data. "
   ]
  },
  {
   "cell_type": "code",
   "execution_count": null,
   "metadata": {},
   "outputs": [],
   "source": []
  }
 ],
 "metadata": {
  "anaconda-cloud": {},
  "kernel_info": {
   "name": "python3"
  },
  "kernelspec": {
   "display_name": "Python 3 (ipykernel)",
   "language": "python",
   "name": "python3"
  },
  "language_info": {
   "codemirror_mode": {
    "name": "ipython",
    "version": 3
   },
   "file_extension": ".py",
   "mimetype": "text/x-python",
   "name": "python",
   "nbconvert_exporter": "python",
   "pygments_lexer": "ipython3",
   "version": "3.9.7"
  },
  "latex_envs": {
   "LaTeX_envs_menu_present": true,
   "autoclose": false,
   "autocomplete": true,
   "bibliofile": "biblio.bib",
   "cite_by": "apalike",
   "current_citInitial": 1,
   "eqLabelWithNumbers": true,
   "eqNumInitial": 1,
   "hotkeys": {
    "equation": "Ctrl-E",
    "itemize": "Ctrl-I"
   },
   "labels_anchors": false,
   "latex_user_defs": false,
   "report_style_numbering": false,
   "user_envs_cfg": false
  },
  "nteract": {
   "version": "0.12.3"
  }
 },
 "nbformat": 4,
 "nbformat_minor": 2
}
